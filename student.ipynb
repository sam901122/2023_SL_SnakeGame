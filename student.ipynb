{
 "cells": [
  {
   "cell_type": "code",
   "execution_count": 19,
   "metadata": {},
   "outputs": [],
   "source": [
    "# 我們的程式是參考其他人的程式寫出來的，要記得把這些資訊寫出來喔\n",
    "\n",
    "# Snake - v1.0\n",
    "# License CC BY 4.0\n",
    "# Thomas Le Menestrel - Colin Laganier - 2019.09.18"
   ]
  },
  {
   "cell_type": "code",
   "execution_count": 20,
   "metadata": {},
   "outputs": [],
   "source": [
    "# 使用函式庫\n",
    "from random import randint\n",
    "import pygame\n",
    "import time"
   ]
  },
  {
   "cell_type": "code",
   "execution_count": 21,
   "metadata": {},
   "outputs": [],
   "source": [
    "# 遊戲進行所需的變數\n",
    "playing = True                   # 遊戲是否正在運行\n",
    "snakePosition = []               # 儲存蛇的身體位置\n",
    "growthPosition = [ 0, 0 ]        # 吃到蘋果時要長出來的那節身體所在的位子\n",
    "speed = 100                      # 遊戲進行的速度，越大越慢\n",
    "\n",
    "moveUp = False                   # 蛇在往「上」走\n",
    "moveDown = False                 # 蛇在往「下」走\n",
    "moveLeft = False                 # 蛇在往「左」走\n",
    "moveRight = True                 # 蛇在往「右」走\n",
    "\n",
    "# 常數（跟遊戲畫面大小較有關，不用理會）\n",
    "BOARD_LEN = 800\n",
    "GRID_CNT = 20\n",
    "GRID_STEP = BOARD_LEN / GRID_CNT\n",
    "\n",
    "# 顏色們（不用理會）\n",
    "gridClrs = [ ( 103, 148, 54 ), ( 123, 168, 74 ) ]\n",
    "borderClrs = [( 77, 45, 32 ), ( 87, 55, 42 )]"
   ]
  },
  {
   "cell_type": "code",
   "execution_count": 22,
   "metadata": {},
   "outputs": [],
   "source": [
    "# 函式（不用理會）\n",
    "def project( pos ):\n",
    "\treturn [ pos[ 0 ] * GRID_STEP, pos[ 1 ] * GRID_STEP ]"
   ]
  },
  {
   "cell_type": "code",
   "execution_count": 23,
   "metadata": {},
   "outputs": [],
   "source": [
    "# 這個 block 都是在建立遊戲，不用理會\n",
    "\n",
    "# 建立視窗\n",
    "pygame.init()\n",
    "window = pygame.display.set_mode( ( BOARD_LEN, BOARD_LEN ) )\n",
    "windowRect = window.get_rect()\n",
    "pygame.display.set_caption( \"Snake\" )\n",
    "\n",
    "# 渲染視窗底色\n",
    "cover = pygame.Surface( window.get_size() )\n",
    "cover = cover.convert()\n",
    "cover.fill( ( 250, 250, 250 ) )\n",
    "window.blit( cover, ( 0, 0 ) )\n",
    "for x in range( GRID_CNT ):\n",
    "\tfor y in range( GRID_CNT ):\n",
    "\t\trect = pygame.Rect( *project( [ x, y ] ), GRID_STEP, GRID_STEP )\n",
    "\t\tclr = gridClrs[ ( x+y ) % 2 ]\n",
    "\t\tif x == 0 or y == 0 or x == GRID_CNT - 1 or y == GRID_CNT - 1:\n",
    "\t\t\tclr = borderClrs[ ( x+y ) % 2 ]\n",
    "\t\tpygame.draw.rect( cover, clr, rect )\n",
    "\n",
    "window.blit( cover, ( 0, 0 ) )\n",
    "pygame.display.flip()"
   ]
  },
  {
   "cell_type": "code",
   "execution_count": 24,
   "metadata": {},
   "outputs": [],
   "source": [
    "# 載入圖片\n",
    "head = pygame.image.load( \"./images/worm_head.png\" ).convert_alpha()     # 頭的圖片\n",
    "head = pygame.transform.scale( head, ( GRID_STEP * 1.3, GRID_STEP * 1.3 ) )\n",
    "\n",
    "body = pygame.image.load( \"./images/body.png\" ).convert_alpha()          # 身體的圖片\n",
    "body = pygame.transform.scale( body, ( GRID_STEP * 1.1, GRID_STEP * 1.1 ) )\n",
    "\n",
    "fruit = pygame.image.load( \"./images/fruit.png\" ).convert_alpha()        # 水果的圖片\n",
    "fruit = pygame.transform.scale( fruit, ( GRID_STEP * 1.2, GRID_STEP * 1.2 ) )\n"
   ]
  },
  {
   "cell_type": "code",
   "execution_count": 25,
   "metadata": {},
   "outputs": [],
   "source": [
    "# 蛇的頭跟第一節身體的座標\n",
    "snakePosition.append( [ 2, 1 ] )\n",
    "snakePosition.append( [ 1, 1 ] )\n",
    "\n",
    "# 隨機產生水果的座標\n",
    "fruitPosition = [ randint( 1, GRID_CNT - 2 ), randint( 1, GRID_CNT - 2 ) ]"
   ]
  },
  {
   "cell_type": "code",
   "execution_count": 26,
   "metadata": {},
   "outputs": [],
   "source": [
    "while playing:\n",
    "\n",
    "\t# 逐一檢查各種事件（滑鼠、鍵盤等等）\n",
    "\tfor event in pygame.event.get():\n",
    "\n",
    "\t\t# 離開遊戲（點擊右上角叉叉時會觸發）\n",
    "\t\tif event.type == pygame.QUIT:\n",
    "\t\t\tplaying = False\n",
    "\n",
    "\t\t# 按鍵盤\n",
    "\t\tif event.type == pygame.KEYDOWN:\n",
    "\n",
    "\t\t\t# 按往上鍵\n",
    "\t\t\tif event.key == pygame.K_UP:\n",
    "\t\t\t\tif moveDown == False:\n",
    "\t\t\t\t\tmoveUp = True\n",
    "\t\t\t\t\tmoveDown = False\n",
    "\t\t\t\t\tmoveLeft = False\n",
    "\t\t\t\t\tmoveRight = False\n",
    "\n",
    "\t\t\t# 按往下鍵\n",
    "\t\t\telif event.key == pygame.K_DOWN:\n",
    "\t\t\t\tif moveUp == False:\n",
    "\t\t\t\t\tmoveUp = False\n",
    "\t\t\t\t\tmoveDown = True\n",
    "\t\t\t\t\tmoveLeft = False\n",
    "\t\t\t\t\tmoveRight = False\n",
    "\n",
    "\t\t\t# 按往左鍵\n",
    "\t\t\telif event.key == pygame.K_LEFT:\n",
    "\t\t\t\tif moveRight == False:\n",
    "\t\t\t\t\tmoveUp = False\n",
    "\t\t\t\t\tmoveDown = False\n",
    "\t\t\t\t\tmoveLeft = True\n",
    "\t\t\t\t\tmoveRight = False\n",
    "\n",
    "\t\t\t# TODO 1: 按往右鍵\n",
    "\t\t\telif event.key == pygame.K_RIGHT:\n",
    "\t\t\t\tcontinue # 寫完後可以刪除這行\n",
    "\n",
    "\t# 前進\n",
    "\t# 身體往前進\n",
    "\tgrowthPosition = snakePosition[ -1 ]\n",
    "\tfor i in range( len( snakePosition ) - 1, 0, -1 ):\n",
    "\t\tsnakePosition[ i ] = snakePosition[ i - 1 ][ : ]\n",
    "\t# 頭往前進\n",
    "\tif moveUp:\n",
    "\t\tsnakePosition[ 0 ][ 1 ] -= 1\n",
    "\telif moveDown:\n",
    "\t\tsnakePosition[ 0 ][ 1 ] += 1\n",
    "\telif moveLeft:\n",
    "\t\tsnakePosition[ 0 ][ 0 ] -= 1\n",
    "\telif moveRight:\n",
    "\t\tsnakePosition[ 0 ][ 0 ] += 1\n",
    "\n",
    "\t# 檢驗是否有撞到東西\n",
    "\t# TODO 2: 是否撞到自己的身體\n",
    "\n",
    "\t# TODO 3: 是否撞到牆壁\n",
    "\n",
    "\t# 檢驗是否吃到水果\n",
    "\tif snakePosition[ 0 ] == fruitPosition:\n",
    "\t\t# TODO 4: 以下是隨機生成蘋果的 code，要改成「蘋果不會生成在身體的地方」\n",
    "\t\tfruitPosition = [ randint( 1, GRID_CNT - 2 ), randint( 1, GRID_CNT - 2 ) ]\n",
    "\n",
    "\t\tsnakePosition.append( growthPosition[ : ] )\n",
    "\n",
    "\t# 將遊戲物件畫到螢幕上，aka 渲染\n",
    "\t# 背景\n",
    "\twindow.blit( cover, ( 0, 0 ) )\n",
    "\t# 蛇的身體\n",
    "\tfor i in range( 1, len( snakePosition ) ):\n",
    "\t\twindow.blit( body, ( project( snakePosition[ i ] ) ) )\n",
    "\t# 蛇的頭\n",
    "\twindow.blit( head, project( snakePosition[ 0 ] ) )\n",
    "\t# 水果\n",
    "\twindow.blit( fruit, project( fruitPosition ) )\n",
    "\t# 分數\n",
    "\tfont = pygame.font.SysFont( None, 25 )\n",
    "\ttext = font.render( \"Score: \" + str( len( snakePosition ) - 2 ), True, ( 0, 0, 0 ) )\n",
    "\twindow.blit( text, ( 400, 0 ) )\n",
    "\tpygame.display.flip()\n",
    "\n",
    "\t# 稍等一些時間，跟遊戲進行速度有關\n",
    "\ttime.sleep( speed / 1000 )"
   ]
  },
  {
   "cell_type": "code",
   "execution_count": 27,
   "metadata": {},
   "outputs": [],
   "source": [
    "pygame.quit()"
   ]
  }
 ],
 "metadata": {
  "kernelspec": {
   "display_name": "Python 3",
   "language": "python",
   "name": "python3"
  },
  "language_info": {
   "codemirror_mode": {
    "name": "ipython",
    "version": 3
   },
   "file_extension": ".py",
   "mimetype": "text/x-python",
   "name": "python",
   "nbconvert_exporter": "python",
   "pygments_lexer": "ipython3",
   "version": "3.10.2"
  },
  "orig_nbformat": 4,
  "vscode": {
   "interpreter": {
    "hash": "356998c43310144b96a2843b6a00592392af50ee3be89b7f2bab29543afc8c0d"
   }
  }
 },
 "nbformat": 4,
 "nbformat_minor": 2
}
